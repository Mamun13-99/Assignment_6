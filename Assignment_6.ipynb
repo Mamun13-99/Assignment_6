{
  "nbformat": 4,
  "nbformat_minor": 0,
  "metadata": {
    "colab": {
      "provenance": []
    },
    "kernelspec": {
      "name": "python3",
      "display_name": "Python 3"
    },
    "language_info": {
      "name": "python"
    }
  },
  "cells": [
    {
      "cell_type": "markdown",
      "source": [
        "1. What are escape characters, and how do you use them?"
      ],
      "metadata": {
        "id": "hfVQ6MrlhE4i"
      }
    },
    {
      "cell_type": "markdown",
      "source": [
        "Escape characters are special characters that are used to represent certain characters that are difficult or impossible to represent directly in a string. In Python, escape characters are indicated by a backslash (\\) followed by another character."
      ],
      "metadata": {
        "id": "a6inKxrThGyH"
      }
    },
    {
      "cell_type": "markdown",
      "source": [
        "2. What do the escape characters n and t stand for?"
      ],
      "metadata": {
        "id": "JYqnR7p1hLXV"
      }
    },
    {
      "cell_type": "markdown",
      "source": [
        "\\n: newline character\n",
        "\n",
        "\\t: tab character"
      ],
      "metadata": {
        "id": "2UaQn8CJhO77"
      }
    },
    {
      "cell_type": "markdown",
      "source": [
        "3. What is the way to include backslash characters in a string?"
      ],
      "metadata": {
        "id": "GjC87eunihn7"
      }
    },
    {
      "cell_type": "code",
      "execution_count": 5,
      "metadata": {
        "colab": {
          "base_uri": "https://localhost:8080/",
          "height": 130
        },
        "id": "zNy5ckCdg596",
        "outputId": "3599acd4-f48a-486f-9645-9fe2ace49d12"
      },
      "outputs": [
        {
          "output_type": "error",
          "ename": "SyntaxError",
          "evalue": "ignored",
          "traceback": [
            "\u001b[0;36m  File \u001b[0;32m\"<ipython-input-5-8688562285ff>\"\u001b[0;36m, line \u001b[0;32m1\u001b[0m\n\u001b[0;31m    My_string=\"This includes a backslash\\\"\u001b[0m\n\u001b[0m                                          ^\u001b[0m\n\u001b[0;31mSyntaxError\u001b[0m\u001b[0;31m:\u001b[0m EOL while scanning string literal\n"
          ]
        }
      ],
      "source": [
        "My_string=\"This includes a backslash\\\"\n",
        "print(My_string)"
      ]
    },
    {
      "cell_type": "code",
      "source": [
        "My_string=\"This includes a backslash\\\\\"\n",
        "print(My_string)"
      ],
      "metadata": {
        "colab": {
          "base_uri": "https://localhost:8080/"
        },
        "id": "QSwtmvPJiqVn",
        "outputId": "2fa39be7-a066-4e2d-91ad-f18fa2e48a14"
      },
      "execution_count": 6,
      "outputs": [
        {
          "output_type": "stream",
          "name": "stdout",
          "text": [
            "This includes a backslash\\\n"
          ]
        }
      ]
    },
    {
      "cell_type": "code",
      "source": [
        "String_2=\"This includes a backslash\\\\\"\n",
        "print(repr(String_2))"
      ],
      "metadata": {
        "colab": {
          "base_uri": "https://localhost:8080/"
        },
        "id": "Q1bd85JRjK0T",
        "outputId": "e575ab4f-95f9-4ec2-9e91-da1574c920be"
      },
      "execution_count": 8,
      "outputs": [
        {
          "output_type": "stream",
          "name": "stdout",
          "text": [
            "'This includes a backslash\\\\'\n"
          ]
        }
      ]
    },
    {
      "cell_type": "markdown",
      "source": [
        "4. The string &quot;Howl&#39;s Moving Castle&quot; is a correct value. Why isn&#39;t the single quote character in the\n",
        "word Howl&#39;s not escaped a problem?"
      ],
      "metadata": {
        "id": "k4XJo-4ykALn"
      }
    },
    {
      "cell_type": "code",
      "source": [
        "\n",
        "s=\"Howl's Moving Castle\""
      ],
      "metadata": {
        "id": "SoYBwcOtjkY9"
      },
      "execution_count": 11,
      "outputs": []
    },
    {
      "cell_type": "markdown",
      "source": [
        "The single quote character in the string \"Howl's Moving Castle\" is not a problem because the string is enclosed in double quotes (\"), not single quotes (')"
      ],
      "metadata": {
        "id": "fqKw_jb0knLJ"
      }
    },
    {
      "cell_type": "code",
      "source": [
        "s='Howl\\'s Moving Castle'"
      ],
      "metadata": {
        "id": "jOLloioLj51L"
      },
      "execution_count": 13,
      "outputs": []
    },
    {
      "cell_type": "markdown",
      "source": [
        "5. How do you write a string of newlines if you don&#39;t want to use the n character?"
      ],
      "metadata": {
        "id": "5tUXMvAik9qW"
      }
    },
    {
      "cell_type": "markdown",
      "source": [
        "To create a string with newlines without using the \\n character, we can use multi-line string literals. "
      ],
      "metadata": {
        "id": "NaM-87P2lZxB"
      }
    },
    {
      "cell_type": "code",
      "source": [
        "New_line= \"\"\"Hello\n",
        "My \n",
        "Name\"\"\"\n",
        "print(New_line)"
      ],
      "metadata": {
        "colab": {
          "base_uri": "https://localhost:8080/"
        },
        "id": "fyPuRP9ZkyvE",
        "outputId": "aa26624c-56c9-45f3-b7a9-5db890a804ac"
      },
      "execution_count": 19,
      "outputs": [
        {
          "output_type": "stream",
          "name": "stdout",
          "text": [
            "Hello\n",
            "My \n",
            "Name\n"
          ]
        }
      ]
    },
    {
      "cell_type": "code",
      "source": [
        "New_s='''is\n",
        "Abdulla\n",
        "and'''\n",
        "print(New_s)"
      ],
      "metadata": {
        "colab": {
          "base_uri": "https://localhost:8080/"
        },
        "id": "tXTNFeYzlpG2",
        "outputId": "84dd2c66-6799-4381-875e-00aea0e32bb3"
      },
      "execution_count": 21,
      "outputs": [
        {
          "output_type": "stream",
          "name": "stdout",
          "text": [
            "is\n",
            "Abdulla\n",
            "and\n"
          ]
        }
      ]
    },
    {
      "cell_type": "markdown",
      "source": [
        "6. What are the values of the given expressions?\n",
        "&#39;Hello, world!&#39;[1]\n",
        "\n",
        "&#39;Hello, world!&#39;[0:5]\n",
        "\n",
        "&#39;Hello, world!&#39;[:5]\n",
        "\n",
        "&#39;Hello, world!&#39;[3:]\n",
        "\n",
        "&#39;Hello, world!&#39;[1]"
      ],
      "metadata": {
        "id": "UTsXBOFcmStz"
      }
    },
    {
      "cell_type": "code",
      "source": [
        "  'Hello, world!'[0:5]"
      ],
      "metadata": {
        "colab": {
          "base_uri": "https://localhost:8080/",
          "height": 36
        },
        "id": "8z3hol3vmDsR",
        "outputId": "014608d8-8695-4e02-a8fa-3f5c30f10fd2"
      },
      "execution_count": 24,
      "outputs": [
        {
          "output_type": "execute_result",
          "data": {
            "text/plain": [
              "'Hello'"
            ],
            "application/vnd.google.colaboratory.intrinsic+json": {
              "type": "string"
            }
          },
          "metadata": {},
          "execution_count": 24
        }
      ]
    },
    {
      "cell_type": "code",
      "source": [
        "'Hello, world!'[:5]"
      ],
      "metadata": {
        "colab": {
          "base_uri": "https://localhost:8080/",
          "height": 36
        },
        "id": "Ivvp9QUDmYyC",
        "outputId": "5665d7cf-0c6c-40f3-967d-e0af349246e6"
      },
      "execution_count": 25,
      "outputs": [
        {
          "output_type": "execute_result",
          "data": {
            "text/plain": [
              "'Hello'"
            ],
            "application/vnd.google.colaboratory.intrinsic+json": {
              "type": "string"
            }
          },
          "metadata": {},
          "execution_count": 25
        }
      ]
    },
    {
      "cell_type": "code",
      "source": [
        "'Hello, world!'[3:]"
      ],
      "metadata": {
        "colab": {
          "base_uri": "https://localhost:8080/",
          "height": 36
        },
        "id": "Pok5q61FmmaK",
        "outputId": "a9456f34-0df3-4901-864b-893a088bab99"
      },
      "execution_count": 26,
      "outputs": [
        {
          "output_type": "execute_result",
          "data": {
            "text/plain": [
              "'lo, world!'"
            ],
            "application/vnd.google.colaboratory.intrinsic+json": {
              "type": "string"
            }
          },
          "metadata": {},
          "execution_count": 26
        }
      ]
    },
    {
      "cell_type": "code",
      "source": [
        "'Hello, world!'[1]"
      ],
      "metadata": {
        "colab": {
          "base_uri": "https://localhost:8080/",
          "height": 36
        },
        "id": "Md7TXdhympc_",
        "outputId": "d1c82528-76a6-4086-99a1-eec419ca2368"
      },
      "execution_count": 27,
      "outputs": [
        {
          "output_type": "execute_result",
          "data": {
            "text/plain": [
              "'e'"
            ],
            "application/vnd.google.colaboratory.intrinsic+json": {
              "type": "string"
            }
          },
          "metadata": {},
          "execution_count": 27
        }
      ]
    },
    {
      "cell_type": "markdown",
      "source": [
        "7. What are the values of the following expressions?\n",
        "\n",
        "&#39;Hello&#39;.upper()\n",
        "\n",
        "&#39;Hello&#39;.upper().isupper()\n",
        "\n",
        "&#39;Hello&#39;.upper().lower()"
      ],
      "metadata": {
        "id": "TG9lxSqXm6AT"
      }
    },
    {
      "cell_type": "code",
      "source": [
        "'Hello'.upper()"
      ],
      "metadata": {
        "colab": {
          "base_uri": "https://localhost:8080/",
          "height": 36
        },
        "id": "gsY00tyfm1MO",
        "outputId": "b0fc98cb-4b99-4058-fd95-357a413999ed"
      },
      "execution_count": 28,
      "outputs": [
        {
          "output_type": "execute_result",
          "data": {
            "text/plain": [
              "'HELLO'"
            ],
            "application/vnd.google.colaboratory.intrinsic+json": {
              "type": "string"
            }
          },
          "metadata": {},
          "execution_count": 28
        }
      ]
    },
    {
      "cell_type": "code",
      "source": [
        "'Hello'.upper().isupper()"
      ],
      "metadata": {
        "colab": {
          "base_uri": "https://localhost:8080/"
        },
        "id": "NWvAZudIm_-R",
        "outputId": "89227c06-eb6b-4278-caa1-6291ede84be3"
      },
      "execution_count": 29,
      "outputs": [
        {
          "output_type": "execute_result",
          "data": {
            "text/plain": [
              "True"
            ]
          },
          "metadata": {},
          "execution_count": 29
        }
      ]
    },
    {
      "cell_type": "code",
      "source": [
        "'Hello'.upper().lower()"
      ],
      "metadata": {
        "colab": {
          "base_uri": "https://localhost:8080/",
          "height": 36
        },
        "id": "mxyAfbGbnC4k",
        "outputId": "364d3dd3-5642-4b70-bfa3-f150209778f1"
      },
      "execution_count": 30,
      "outputs": [
        {
          "output_type": "execute_result",
          "data": {
            "text/plain": [
              "'hello'"
            ],
            "application/vnd.google.colaboratory.intrinsic+json": {
              "type": "string"
            }
          },
          "metadata": {},
          "execution_count": 30
        }
      ]
    },
    {
      "cell_type": "markdown",
      "source": [
        "8. What are the values of the following expressions?\n",
        "\n",
        "&#39;Remember, remember, the fifth of July.&#39;.split()\n",
        "\n",
        "&#39;-&#39;.join(&#39;There can only one.&#39;.split())"
      ],
      "metadata": {
        "id": "mnymxuwdnI7s"
      }
    },
    {
      "cell_type": "code",
      "source": [
        "'Remember, remember, the fifth of July.'.split()"
      ],
      "metadata": {
        "colab": {
          "base_uri": "https://localhost:8080/"
        },
        "id": "GrFDOIdVnTqw",
        "outputId": "01e7905d-2cfd-4b94-c3b0-2eb964333c99"
      },
      "execution_count": 31,
      "outputs": [
        {
          "output_type": "execute_result",
          "data": {
            "text/plain": [
              "['Remember,', 'remember,', 'the', 'fifth', 'of', 'July.']"
            ]
          },
          "metadata": {},
          "execution_count": 31
        }
      ]
    },
    {
      "cell_type": "code",
      "source": [
        "'-'.join('There can only one.')"
      ],
      "metadata": {
        "colab": {
          "base_uri": "https://localhost:8080/",
          "height": 36
        },
        "id": "dP51eBOdng6B",
        "outputId": "da504344-2927-4398-cfa4-70915773b45d"
      },
      "execution_count": 33,
      "outputs": [
        {
          "output_type": "execute_result",
          "data": {
            "text/plain": [
              "'T-h-e-r-e- -c-a-n- -o-n-l-y- -o-n-e-.'"
            ],
            "application/vnd.google.colaboratory.intrinsic+json": {
              "type": "string"
            }
          },
          "metadata": {},
          "execution_count": 33
        }
      ]
    },
    {
      "cell_type": "code",
      "source": [
        "'-'.join('There can only one.'.split())"
      ],
      "metadata": {
        "colab": {
          "base_uri": "https://localhost:8080/",
          "height": 36
        },
        "id": "-_53ipqSnn5O",
        "outputId": "2131068d-4c13-401a-89f3-e562047e8363"
      },
      "execution_count": 34,
      "outputs": [
        {
          "output_type": "execute_result",
          "data": {
            "text/plain": [
              "'There-can-only-one.'"
            ],
            "application/vnd.google.colaboratory.intrinsic+json": {
              "type": "string"
            }
          },
          "metadata": {},
          "execution_count": 34
        }
      ]
    },
    {
      "cell_type": "markdown",
      "source": [
        "9. What are the methods for right-justifying, left-justifying, and centering a string?"
      ],
      "metadata": {
        "id": "PAEy7hXzn6bb"
      }
    },
    {
      "cell_type": "code",
      "source": [
        "p='Abdulla'\n",
        "p=p.ljust(15,\"*\")\n",
        "print(p)"
      ],
      "metadata": {
        "colab": {
          "base_uri": "https://localhost:8080/"
        },
        "id": "c4TgcG0Pn2P3",
        "outputId": "8c2e3a09-710c-4e39-def1-dce499c3710d"
      },
      "execution_count": 43,
      "outputs": [
        {
          "output_type": "stream",
          "name": "stdout",
          "text": [
            "Abdulla********\n"
          ]
        }
      ]
    },
    {
      "cell_type": "code",
      "source": [
        "W=\"Hello WOrld\"\n",
        "W=W.rjust(15,\"@\")\n",
        "print(W)"
      ],
      "metadata": {
        "colab": {
          "base_uri": "https://localhost:8080/"
        },
        "id": "uLJBrOImo0DX",
        "outputId": "21dbb49b-d7ec-45cc-d45e-3c28f9ad0fdf"
      },
      "execution_count": 45,
      "outputs": [
        {
          "output_type": "stream",
          "name": "stdout",
          "text": [
            "@@@@Hello WOrld\n"
          ]
        }
      ]
    },
    {
      "cell_type": "code",
      "source": [
        "C=\"Football\"\n",
        "C=C.center(20,\"*\")\n",
        "print(C)"
      ],
      "metadata": {
        "colab": {
          "base_uri": "https://localhost:8080/"
        },
        "id": "6IE12rZOptwT",
        "outputId": "c68b822a-b465-4e58-951a-17903004d7d8"
      },
      "execution_count": 47,
      "outputs": [
        {
          "output_type": "stream",
          "name": "stdout",
          "text": [
            "******Football******\n"
          ]
        }
      ]
    },
    {
      "cell_type": "code",
      "source": [
        "\"Abdulla\".center(20,\"%\")"
      ],
      "metadata": {
        "colab": {
          "base_uri": "https://localhost:8080/",
          "height": 36
        },
        "id": "x17z8GHfqAuL",
        "outputId": "a598044b-6fb2-4c98-d11f-9d96f105ace5"
      },
      "execution_count": 49,
      "outputs": [
        {
          "output_type": "execute_result",
          "data": {
            "text/plain": [
              "'%%%%%%Abdulla%%%%%%%'"
            ],
            "application/vnd.google.colaboratory.intrinsic+json": {
              "type": "string"
            }
          },
          "metadata": {},
          "execution_count": 49
        }
      ]
    },
    {
      "cell_type": "markdown",
      "source": [
        "10. What is the best way to remove whitespace characters from the start or end?"
      ],
      "metadata": {
        "id": "YBoPN34YqYU4"
      }
    },
    {
      "cell_type": "code",
      "source": [
        "M=\"  My Name is Abdulla  \"\n",
        "Z=M.strip()\n",
        "print(Z)"
      ],
      "metadata": {
        "colab": {
          "base_uri": "https://localhost:8080/"
        },
        "id": "8gPKR6AiqNAd",
        "outputId": "da2d7e01-9998-4193-c804-79d09e9bddea"
      },
      "execution_count": 55,
      "outputs": [
        {
          "output_type": "stream",
          "name": "stdout",
          "text": [
            "My Name is Abdulla\n"
          ]
        }
      ]
    },
    {
      "cell_type": "code",
      "source": [
        "x=Z.lstrip()\n",
        "print(x)\n",
        "print(M)"
      ],
      "metadata": {
        "colab": {
          "base_uri": "https://localhost:8080/"
        },
        "id": "ujwdaH0lqflS",
        "outputId": "f17a614d-2732-49f1-c10e-2b60bf13b7cd"
      },
      "execution_count": 60,
      "outputs": [
        {
          "output_type": "stream",
          "name": "stdout",
          "text": [
            "My Name is Abdulla\n",
            "  My Name is Abdulla  \n"
          ]
        }
      ]
    },
    {
      "cell_type": "code",
      "source": [
        "A=x.rstrip()\n",
        "print(A)\n",
        "print(M)"
      ],
      "metadata": {
        "colab": {
          "base_uri": "https://localhost:8080/"
        },
        "id": "oIj1022urH1-",
        "outputId": "348d850b-9935-41a6-eac7-9c1fd6d1d3f9"
      },
      "execution_count": 62,
      "outputs": [
        {
          "output_type": "stream",
          "name": "stdout",
          "text": [
            "My Name is Abdulla\n",
            "  My Name is Abdulla  \n"
          ]
        }
      ]
    },
    {
      "cell_type": "code",
      "source": [],
      "metadata": {
        "id": "YIQ2JbZYrbDk"
      },
      "execution_count": null,
      "outputs": []
    }
  ]
}